{
 "cells": [
  {
   "cell_type": "code",
   "execution_count": 2,
   "id": "4846f6ae",
   "metadata": {},
   "outputs": [],
   "source": [
    "import numpy as np \n",
    "import matplotlib.pyplot as plt"
   ]
  },
  {
   "cell_type": "code",
   "execution_count": 3,
   "id": "9f66fc6c",
   "metadata": {},
   "outputs": [
    {
     "name": "stdout",
     "output_type": "stream",
     "text": [
      "['ID', 'acceptor_coordinates', 'donor_coordinates', 'electrode_coordinates', 'event_counts', 'device_time']\n",
      "[[     0 100000      0 ...      0      0      0]\n",
      " [     0      0      0 ...      0      0      0]\n",
      " [     0      0      0 ...      0      0      0]\n",
      " ...\n",
      " [     0      0      0 ...      0      0      0]\n",
      " [     0      0      0 ...      0      0      0]\n",
      " [     0      0      0 ...      0      0      0]]\n"
     ]
    }
   ],
   "source": [
    "state = np.load(\"../data/device_1.npz\")\n",
    "print(state.files)\n",
    "events = state[\"event_counts\"]\n",
    "\n",
    "print(events)"
   ]
  }
 ],
 "metadata": {
  "kernelspec": {
   "display_name": "py311",
   "language": "python",
   "name": "python3"
  },
  "language_info": {
   "codemirror_mode": {
    "name": "ipython",
    "version": 3
   },
   "file_extension": ".py",
   "mimetype": "text/x-python",
   "name": "python",
   "nbconvert_exporter": "python",
   "pygments_lexer": "ipython3",
   "version": "3.11.11"
  }
 },
 "nbformat": 4,
 "nbformat_minor": 5
}
